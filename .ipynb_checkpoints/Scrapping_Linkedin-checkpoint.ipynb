{
 "cells": [
  {
   "cell_type": "code",
   "execution_count": 1,
   "metadata": {
    "scrolled": true
   },
   "outputs": [],
   "source": [
    "from linkedin_scraper import Person, actions\n",
    "from selenium import webdriver\n",
    "driver = webdriver.Firefox(executable_path='E:/ZProjetos/geckodriver/geckodriver.exe')\n",
    "\n",
    "email = 'thiagoyoshiaki@gmail.com'\n",
    "password = 'coloque sua senha aki'\n",
    "actions.login(driver, email, password) # if email and password isnt given, it'll prompt in terminal\n",
    "#person = Person(person = Person(\"www.linkedin.com/in/thiago-yoshiaki-miyabara-nascimento-3a70062a\"), driver = driver)\n",
    "#company = Company(\"https://ca.linkedin.com/company/TOTVS\", driver=driver)\n",
    "#company.scrape(close_on_complete=True)\n",
    "#person.scrape(close_on_complete=True)\n"
   ]
  },
  {
   "cell_type": "code",
   "execution_count": 2,
   "metadata": {},
   "outputs": [],
   "source": [
    "import time\n",
    "from selenium import webdriver\n",
    "\n",
    "#driver = webdriver.Chrome('/path/to/chromedriver')  # Optional argument, if not specified will search path.\n",
    "driver = webdriver.Firefox(executable_path='E:/ZProjetos/geckodriver/geckodriver.exe')\n",
    "driver.get('http://www.google.com/');\n",
    "time.sleep(5) # Let the user actually see something!\n",
    "search_box = driver.find_element_by_name('q')\n",
    "search_box.send_keys('Gustavo Ravanhani Matuck')\n",
    "search_box.submit()\n",
    "time.sleep(5) # Let the user actually see something!\n",
    "#driver.quit()"
   ]
  },
  {
   "cell_type": "code",
   "execution_count": 3,
   "metadata": {},
   "outputs": [],
   "source": [
    "def login():\n",
    " username = driver.find_element_by_id('thiagoyoshiaki@gmail.com')\n",
    " username.send_keys(username)\n",
    " password = driver.find_element_by_id('coloque sua senha aki')\n",
    " password.send_keys(password)\n",
    " #driver.find_element_by_id('login-submit').click()\n",
    " print('successfully logged')"
   ]
  },
  {
   "cell_type": "code",
   "execution_count": 17,
   "metadata": {},
   "outputs": [],
   "source": [
    "driver = webdriver.Firefox(executable_path='E:/ZProjetos/geckodriver/geckodriver.exe')\n",
    "driver.get('https://www.linkedin.com/in/thiago-yoshiaki-miyabara-nascimento-3a70062a/')\n"
   ]
  }
 ],
 "metadata": {
  "kernelspec": {
   "display_name": "Python 3",
   "language": "python",
   "name": "python3"
  },
  "language_info": {
   "codemirror_mode": {
    "name": "ipython",
    "version": 3
   },
   "file_extension": ".py",
   "mimetype": "text/x-python",
   "name": "python",
   "nbconvert_exporter": "python",
   "pygments_lexer": "ipython3",
   "version": "3.8.1"
  },
  "toc": {
   "base_numbering": 1,
   "nav_menu": {},
   "number_sections": true,
   "sideBar": true,
   "skip_h1_title": true,
   "title_cell": "Index",
   "title_sidebar": "Contents",
   "toc_cell": false,
   "toc_position": {},
   "toc_section_display": true,
   "toc_window_display": false
  }
 },
 "nbformat": 4,
 "nbformat_minor": 2
}